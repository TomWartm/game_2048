{
 "cells": [
  {
   "cell_type": "markdown",
   "metadata": {},
   "source": [
    "# Data Analysis Game Strategy"
   ]
  },
  {
   "cell_type": "code",
   "execution_count": 185,
   "metadata": {},
   "outputs": [],
   "source": [
    "import numpy as np\n",
    "import pandas as pd\n",
    "import seaborn as sns\n",
    "import matplotlib.pyplot as plt"
   ]
  },
  {
   "cell_type": "code",
   "execution_count": 186,
   "metadata": {},
   "outputs": [
    {
     "data": {
      "application/vnd.microsoft.datawrangler.viewer.v0+json": {
       "columns": [
        {
         "name": "index",
         "rawType": "int64",
         "type": "integer"
        },
        {
         "name": "Strategy",
         "rawType": "object",
         "type": "string"
        },
        {
         "name": "Score",
         "rawType": "int64",
         "type": "integer"
        },
        {
         "name": "Number of moves",
         "rawType": "int64",
         "type": "integer"
        },
        {
         "name": "Highest Tile",
         "rawType": "int64",
         "type": "integer"
        },
        {
         "name": "Game over",
         "rawType": "bool",
         "type": "boolean"
        },
        {
         "name": "Iteration",
         "rawType": "int64",
         "type": "integer"
        }
       ],
       "conversionMethod": "pd.DataFrame",
       "ref": "2da01d0f-5080-4d3c-9a3d-00dd40fe7b64",
       "rows": [
        [
         "0",
         "Deep Q-Learning",
         "2",
         "1",
         "2",
         "False",
         "0"
        ],
        [
         "1",
         "Deep Q-Learning",
         "4",
         "2",
         "2",
         "False",
         "0"
        ],
        [
         "2",
         "Deep Q-Learning",
         "6",
         "3",
         "4",
         "False",
         "0"
        ],
        [
         "3",
         "Deep Q-Learning",
         "10",
         "4",
         "8",
         "False",
         "0"
        ],
        [
         "4",
         "Deep Q-Learning",
         "12",
         "5",
         "8",
         "False",
         "0"
        ]
       ],
       "shape": {
        "columns": 6,
        "rows": 5
       }
      },
      "text/html": [
       "<div>\n",
       "<style scoped>\n",
       "    .dataframe tbody tr th:only-of-type {\n",
       "        vertical-align: middle;\n",
       "    }\n",
       "\n",
       "    .dataframe tbody tr th {\n",
       "        vertical-align: top;\n",
       "    }\n",
       "\n",
       "    .dataframe thead th {\n",
       "        text-align: right;\n",
       "    }\n",
       "</style>\n",
       "<table border=\"1\" class=\"dataframe\">\n",
       "  <thead>\n",
       "    <tr style=\"text-align: right;\">\n",
       "      <th></th>\n",
       "      <th>Strategy</th>\n",
       "      <th>Score</th>\n",
       "      <th>Number of moves</th>\n",
       "      <th>Highest Tile</th>\n",
       "      <th>Game over</th>\n",
       "      <th>Iteration</th>\n",
       "    </tr>\n",
       "  </thead>\n",
       "  <tbody>\n",
       "    <tr>\n",
       "      <th>0</th>\n",
       "      <td>Deep Q-Learning</td>\n",
       "      <td>2</td>\n",
       "      <td>1</td>\n",
       "      <td>2</td>\n",
       "      <td>False</td>\n",
       "      <td>0</td>\n",
       "    </tr>\n",
       "    <tr>\n",
       "      <th>1</th>\n",
       "      <td>Deep Q-Learning</td>\n",
       "      <td>4</td>\n",
       "      <td>2</td>\n",
       "      <td>2</td>\n",
       "      <td>False</td>\n",
       "      <td>0</td>\n",
       "    </tr>\n",
       "    <tr>\n",
       "      <th>2</th>\n",
       "      <td>Deep Q-Learning</td>\n",
       "      <td>6</td>\n",
       "      <td>3</td>\n",
       "      <td>4</td>\n",
       "      <td>False</td>\n",
       "      <td>0</td>\n",
       "    </tr>\n",
       "    <tr>\n",
       "      <th>3</th>\n",
       "      <td>Deep Q-Learning</td>\n",
       "      <td>10</td>\n",
       "      <td>4</td>\n",
       "      <td>8</td>\n",
       "      <td>False</td>\n",
       "      <td>0</td>\n",
       "    </tr>\n",
       "    <tr>\n",
       "      <th>4</th>\n",
       "      <td>Deep Q-Learning</td>\n",
       "      <td>12</td>\n",
       "      <td>5</td>\n",
       "      <td>8</td>\n",
       "      <td>False</td>\n",
       "      <td>0</td>\n",
       "    </tr>\n",
       "  </tbody>\n",
       "</table>\n",
       "</div>"
      ],
      "text/plain": [
       "          Strategy  Score  Number of moves  Highest Tile  Game over  Iteration\n",
       "0  Deep Q-Learning      2                1             2      False          0\n",
       "1  Deep Q-Learning      4                2             2      False          0\n",
       "2  Deep Q-Learning      6                3             4      False          0\n",
       "3  Deep Q-Learning     10                4             8      False          0\n",
       "4  Deep Q-Learning     12                5             8      False          0"
      ]
     },
     "execution_count": 186,
     "metadata": {},
     "output_type": "execute_result"
    }
   ],
   "source": [
    "df = pd.read_csv('C:/Users/mot99/Dokumente/GitHub/game_2048/data/statistical.csv')\n",
    "df.head()"
   ]
  },
  {
   "cell_type": "code",
   "execution_count": 187,
   "metadata": {},
   "outputs": [
    {
     "data": {
      "image/png": "[encoded data removed]",
      "text/plain": [
       "<Figure size 640x480 with 1 Axes>"
      ]
     },
     "metadata": {},
     "output_type": "display_data"
    }
   ],
   "source": [
    "sns.violinplot(x='Strategy', y='Highest Tile', data=df[df['Game over'] == True])\n",
    "plt.yticks(np.logspace(0, np.log2(df['Highest Tile'].max()), base=2, num=int(np.log2(df['Highest Tile'].max())) + 1))\n",
    "plt.savefig('img/game_strategy.png')\n",
    "plt.show()"
   ]
  },
  {
   "cell_type": "code",
   "execution_count": 188,
   "metadata": {},
   "outputs": [
    {
     "data": {
      "text/plain": [
       "376"
      ]
     },
     "execution_count": 188,
     "metadata": {},
     "output_type": "execute_result"
    }
   ],
   "source": [
    "max(df['Number of moves'])"
   ]
  },
  {
   "cell_type": "markdown",
   "metadata": {},
   "source": [
    "## QLearning"
   ]
  },
  {
   "cell_type": "code",
   "execution_count": 189,
   "metadata": {},
   "outputs": [
    {
     "data": {
      "application/vnd.microsoft.datawrangler.viewer.v0+json": {
       "columns": [
        {
         "name": "index",
         "rawType": "int64",
         "type": "integer"
        },
        {
         "name": "Strategy",
         "rawType": "object",
         "type": "string"
        },
        {
         "name": "Score",
         "rawType": "int64",
         "type": "integer"
        },
        {
         "name": "Number of moves",
         "rawType": "int64",
         "type": "integer"
        },
        {
         "name": "Highest Tile",
         "rawType": "int64",
         "type": "integer"
        },
        {
         "name": "Game over",
         "rawType": "bool",
         "type": "boolean"
        },
        {
         "name": "Iteration",
         "rawType": "int64",
         "type": "integer"
        }
       ],
       "conversionMethod": "pd.DataFrame",
       "ref": "fb9e4ce1-5d2a-4262-b086-78b8ea4b5e40",
       "rows": [
        [
         "101",
         "Deep Q-Learning",
         "228",
         "101",
         "64",
         "True",
         "0"
        ],
        [
         "102",
         "Deep Q-Learning",
         "274",
         "128",
         "64",
         "True",
         "1"
        ],
        [
         "103",
         "Deep Q-Learning",
         "282",
         "134",
         "128",
         "True",
         "2"
        ],
        [
         "104",
         "Deep Q-Learning",
         "268",
         "125",
         "64",
         "True",
         "3"
        ],
        [
         "105",
         "Deep Q-Learning",
         "488",
         "227",
         "256",
         "True",
         "4"
        ],
        [
         "106",
         "Deep Q-Learning",
         "310",
         "140",
         "64",
         "True",
         "5"
        ],
        [
         "107",
         "Deep Q-Learning",
         "192",
         "87",
         "64",
         "True",
         "6"
        ],
        [
         "108",
         "Deep Q-Learning",
         "298",
         "139",
         "128",
         "True",
         "7"
        ],
        [
         "109",
         "Deep Q-Learning",
         "260",
         "118",
         "64",
         "True",
         "8"
        ],
        [
         "110",
         "Deep Q-Learning",
         "204",
         "88",
         "64",
         "True",
         "9"
        ],
        [
         "111",
         "Deep Q-Learning",
         "196",
         "90",
         "64",
         "True",
         "10"
        ],
        [
         "112",
         "Deep Q-Learning",
         "204",
         "94",
         "64",
         "True",
         "11"
        ],
        [
         "113",
         "Deep Q-Learning",
         "250",
         "110",
         "64",
         "True",
         "12"
        ],
        [
         "114",
         "Deep Q-Learning",
         "312",
         "141",
         "128",
         "True",
         "13"
        ],
        [
         "115",
         "Deep Q-Learning",
         "236",
         "109",
         "64",
         "True",
         "14"
        ],
        [
         "116",
         "Deep Q-Learning",
         "206",
         "95",
         "64",
         "True",
         "15"
        ],
        [
         "117",
         "Deep Q-Learning",
         "220",
         "95",
         "64",
         "True",
         "16"
        ],
        [
         "118",
         "Deep Q-Learning",
         "396",
         "176",
         "128",
         "True",
         "17"
        ],
        [
         "119",
         "Deep Q-Learning",
         "238",
         "108",
         "64",
         "True",
         "18"
        ],
        [
         "120",
         "Deep Q-Learning",
         "304",
         "137",
         "128",
         "True",
         "19"
        ],
        [
         "121",
         "Deep Q-Learning",
         "272",
         "119",
         "128",
         "True",
         "20"
        ],
        [
         "122",
         "Deep Q-Learning",
         "364",
         "161",
         "128",
         "True",
         "21"
        ],
        [
         "123",
         "Deep Q-Learning",
         "320",
         "149",
         "128",
         "True",
         "22"
        ],
        [
         "124",
         "Deep Q-Learning",
         "152",
         "70",
         "32",
         "True",
         "23"
        ],
        [
         "125",
         "Deep Q-Learning",
         "254",
         "115",
         "64",
         "True",
         "24"
        ],
        [
         "126",
         "Deep Q-Learning",
         "208",
         "95",
         "64",
         "True",
         "25"
        ],
        [
         "127",
         "Deep Q-Learning",
         "360",
         "157",
         "256",
         "True",
         "26"
        ],
        [
         "128",
         "Deep Q-Learning",
         "284",
         "123",
         "128",
         "True",
         "27"
        ],
        [
         "129",
         "Deep Q-Learning",
         "188",
         "86",
         "64",
         "True",
         "28"
        ],
        [
         "130",
         "Deep Q-Learning",
         "174",
         "78",
         "32",
         "True",
         "29"
        ],
        [
         "131",
         "Deep Q-Learning",
         "318",
         "148",
         "128",
         "True",
         "30"
        ],
        [
         "132",
         "Deep Q-Learning",
         "290",
         "130",
         "64",
         "True",
         "31"
        ],
        [
         "133",
         "Deep Q-Learning",
         "154",
         "71",
         "64",
         "True",
         "32"
        ],
        [
         "134",
         "Deep Q-Learning",
         "232",
         "105",
         "64",
         "True",
         "33"
        ],
        [
         "135",
         "Deep Q-Learning",
         "236",
         "105",
         "128",
         "True",
         "34"
        ],
        [
         "136",
         "Deep Q-Learning",
         "332",
         "148",
         "128",
         "True",
         "35"
        ],
        [
         "137",
         "Deep Q-Learning",
         "296",
         "129",
         "128",
         "True",
         "36"
        ],
        [
         "138",
         "Deep Q-Learning",
         "358",
         "154",
         "128",
         "True",
         "37"
        ],
        [
         "139",
         "Deep Q-Learning",
         "220",
         "97",
         "64",
         "True",
         "38"
        ],
        [
         "140",
         "Deep Q-Learning",
         "278",
         "124",
         "128",
         "True",
         "39"
        ],
        [
         "141",
         "Deep Q-Learning",
         "244",
         "111",
         "64",
         "True",
         "40"
        ],
        [
         "142",
         "Deep Q-Learning",
         "266",
         "122",
         "128",
         "True",
         "41"
        ],
        [
         "143",
         "Deep Q-Learning",
         "190",
         "82",
         "64",
         "True",
         "42"
        ],
        [
         "144",
         "Deep Q-Learning",
         "260",
         "119",
         "64",
         "True",
         "43"
        ],
        [
         "145",
         "Deep Q-Learning",
         "296",
         "128",
         "128",
         "True",
         "44"
        ],
        [
         "146",
         "Deep Q-Learning",
         "172",
         "76",
         "64",
         "True",
         "45"
        ],
        [
         "147",
         "Deep Q-Learning",
         "296",
         "136",
         "128",
         "True",
         "46"
        ],
        [
         "148",
         "Deep Q-Learning",
         "182",
         "81",
         "64",
         "True",
         "47"
        ],
        [
         "149",
         "Deep Q-Learning",
         "330",
         "149",
         "128",
         "True",
         "48"
        ],
        [
         "150",
         "Deep Q-Learning",
         "334",
         "154",
         "128",
         "True",
         "49"
        ]
       ],
       "shape": {
        "columns": 6,
        "rows": 50000
       }
      },
      "text/html": [
       "<div>\n",
       "<style scoped>\n",
       "    .dataframe tbody tr th:only-of-type {\n",
       "        vertical-align: middle;\n",
       "    }\n",
       "\n",
       "    .dataframe tbody tr th {\n",
       "        vertical-align: top;\n",
       "    }\n",
       "\n",
       "    .dataframe thead th {\n",
       "        text-align: right;\n",
       "    }\n",
       "</style>\n",
       "<table border=\"1\" class=\"dataframe\">\n",
       "  <thead>\n",
       "    <tr style=\"text-align: right;\">\n",
       "      <th></th>\n",
       "      <th>Strategy</th>\n",
       "      <th>Score</th>\n",
       "      <th>Number of moves</th>\n",
       "      <th>Highest Tile</th>\n",
       "      <th>Game over</th>\n",
       "      <th>Iteration</th>\n",
       "    </tr>\n",
       "  </thead>\n",
       "  <tbody>\n",
       "    <tr>\n",
       "      <th>101</th>\n",
       "      <td>Deep Q-Learning</td>\n",
       "      <td>228</td>\n",
       "      <td>101</td>\n",
       "      <td>64</td>\n",
       "      <td>True</td>\n",
       "      <td>0</td>\n",
       "    </tr>\n",
       "    <tr>\n",
       "      <th>102</th>\n",
       "      <td>Deep Q-Learning</td>\n",
       "      <td>274</td>\n",
       "      <td>128</td>\n",
       "      <td>64</td>\n",
       "      <td>True</td>\n",
       "      <td>1</td>\n",
       "    </tr>\n",
       "    <tr>\n",
       "      <th>103</th>\n",
       "      <td>Deep Q-Learning</td>\n",
       "      <td>282</td>\n",
       "      <td>134</td>\n",
       "      <td>128</td>\n",
       "      <td>True</td>\n",
       "      <td>2</td>\n",
       "    </tr>\n",
       "    <tr>\n",
       "      <th>104</th>\n",
       "      <td>Deep Q-Learning</td>\n",
       "      <td>268</td>\n",
       "      <td>125</td>\n",
       "      <td>64</td>\n",
       "      <td>True</td>\n",
       "      <td>3</td>\n",
       "    </tr>\n",
       "    <tr>\n",
       "      <th>105</th>\n",
       "      <td>Deep Q-Learning</td>\n",
       "      <td>488</td>\n",
       "      <td>227</td>\n",
       "      <td>256</td>\n",
       "      <td>True</td>\n",
       "      <td>4</td>\n",
       "    </tr>\n",
       "    <tr>\n",
       "      <th>...</th>\n",
       "      <td>...</td>\n",
       "      <td>...</td>\n",
       "      <td>...</td>\n",
       "      <td>...</td>\n",
       "      <td>...</td>\n",
       "      <td>...</td>\n",
       "    </tr>\n",
       "    <tr>\n",
       "      <th>56419</th>\n",
       "      <td>Deep Q-Learning</td>\n",
       "      <td>382</td>\n",
       "      <td>171</td>\n",
       "      <td>256</td>\n",
       "      <td>True</td>\n",
       "      <td>49995</td>\n",
       "    </tr>\n",
       "    <tr>\n",
       "      <th>56420</th>\n",
       "      <td>Deep Q-Learning</td>\n",
       "      <td>290</td>\n",
       "      <td>125</td>\n",
       "      <td>128</td>\n",
       "      <td>True</td>\n",
       "      <td>49996</td>\n",
       "    </tr>\n",
       "    <tr>\n",
       "      <th>56421</th>\n",
       "      <td>Deep Q-Learning</td>\n",
       "      <td>314</td>\n",
       "      <td>144</td>\n",
       "      <td>128</td>\n",
       "      <td>True</td>\n",
       "      <td>49997</td>\n",
       "    </tr>\n",
       "    <tr>\n",
       "      <th>56422</th>\n",
       "      <td>Deep Q-Learning</td>\n",
       "      <td>268</td>\n",
       "      <td>124</td>\n",
       "      <td>64</td>\n",
       "      <td>True</td>\n",
       "      <td>49998</td>\n",
       "    </tr>\n",
       "    <tr>\n",
       "      <th>56423</th>\n",
       "      <td>Deep Q-Learning</td>\n",
       "      <td>416</td>\n",
       "      <td>187</td>\n",
       "      <td>128</td>\n",
       "      <td>True</td>\n",
       "      <td>49999</td>\n",
       "    </tr>\n",
       "  </tbody>\n",
       "</table>\n",
       "<p>50000 rows × 6 columns</p>\n",
       "</div>"
      ],
      "text/plain": [
       "              Strategy  Score  Number of moves  Highest Tile  Game over  \\\n",
       "101    Deep Q-Learning    228              101            64       True   \n",
       "102    Deep Q-Learning    274              128            64       True   \n",
       "103    Deep Q-Learning    282              134           128       True   \n",
       "104    Deep Q-Learning    268              125            64       True   \n",
       "105    Deep Q-Learning    488              227           256       True   \n",
       "...                ...    ...              ...           ...        ...   \n",
       "56419  Deep Q-Learning    382              171           256       True   \n",
       "56420  Deep Q-Learning    290              125           128       True   \n",
       "56421  Deep Q-Learning    314              144           128       True   \n",
       "56422  Deep Q-Learning    268              124            64       True   \n",
       "56423  Deep Q-Learning    416              187           128       True   \n",
       "\n",
       "       Iteration  \n",
       "101            0  \n",
       "102            1  \n",
       "103            2  \n",
       "104            3  \n",
       "105            4  \n",
       "...          ...  \n",
       "56419      49995  \n",
       "56420      49996  \n",
       "56421      49997  \n",
       "56422      49998  \n",
       "56423      49999  \n",
       "\n",
       "[50000 rows x 6 columns]"
      ]
     },
     "execution_count": 189,
     "metadata": {},
     "output_type": "execute_result"
    }
   ],
   "source": [
    "df_q = df[df['Strategy']=='Deep Q-Learning']\n",
    "df_q = df_q[df_q['Game over']]\n",
    "df_q"
   ]
  },
  {
   "cell_type": "code",
   "execution_count": 190,
   "metadata": {},
   "outputs": [
    {
     "data": {
      "image/png": "[encoded data removed]",
      "text/plain": [
       "<Figure size 1000x600 with 1 Axes>"
      ]
     },
     "metadata": {},
     "output_type": "display_data"
    }
   ],
   "source": [
    "plt.figure(figsize=(10, 6))\n",
    "sns.lineplot(x='Iteration', y='Score', data=df_q)\n",
    "plt.xlabel('Iterations')\n",
    "plt.ylabel('Score')\n",
    "sns.regplot(x='Iteration', y='Score', data=df_q, scatter=False, color='red')\n",
    "plt.show()"
   ]
  },
  {
   "cell_type": "code",
   "execution_count": 191,
   "metadata": {},
   "outputs": [
    {
     "data": {
      "image/png": "[encoded data removed]",
      "text/plain": [
       "<Figure size 1000x600 with 1 Axes>"
      ]
     },
     "metadata": {},
     "output_type": "display_data"
    }
   ],
   "source": [
    "plt.figure(figsize=(10, 6))\n",
    "sns.lineplot(x='Iteration', y='Highest Tile', data=df_q)\n",
    "plt.xlabel('Iterations')\n",
    "plt.ylabel('Highest Tile')\n",
    "sns.regplot(x='Iteration', y='Highest Tile', data=df_q, scatter=False, color='red')\n",
    "plt.show()"
   ]
  }
 ],
 "metadata": {
  "kernelspec": {
   "display_name": "waldlabor",
   "language": "python",
   "name": "python3"
  },
  "language_info": {
   "codemirror_mode": {
    "name": "ipython",
    "version": 3
   },
   "file_extension": ".py",
   "mimetype": "text/x-python",
   "name": "python",
   "nbconvert_exporter": "python",
   "pygments_lexer": "ipython3",
   "version": "3.12.4"
  }
 },
 "nbformat": 4,
 "nbformat_minor": 2
}
