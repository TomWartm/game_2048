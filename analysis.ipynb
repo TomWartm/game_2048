{
 "cells": [
  {
   "cell_type": "markdown",
   "metadata": {},
   "source": [
    "# Data Analysis Game Strategy"
   ]
  },
  {
   "cell_type": "code",
   "execution_count": 391,
   "metadata": {},
   "outputs": [],
   "source": [
    "import numpy as np\n",
    "import pandas as pd\n",
    "import seaborn as sns\n",
    "import matplotlib.pyplot as plt"
   ]
  },
  {
   "cell_type": "code",
   "execution_count": 392,
   "metadata": {},
   "outputs": [
    {
     "data": {
      "application/vnd.microsoft.datawrangler.viewer.v0+json": {
       "columns": [
        {
         "name": "index",
         "rawType": "int64",
         "type": "integer"
        },
        {
         "name": "Strategy",
         "rawType": "object",
         "type": "string"
        },
        {
         "name": "Score",
         "rawType": "int64",
         "type": "integer"
        },
        {
         "name": "Number of moves",
         "rawType": "int64",
         "type": "integer"
        },
        {
         "name": "Highest Tile",
         "rawType": "int64",
         "type": "integer"
        },
        {
         "name": "Game over",
         "rawType": "bool",
         "type": "boolean"
        },
        {
         "name": "Iteration",
         "rawType": "int64",
         "type": "integer"
        }
       ],
       "conversionMethod": "pd.DataFrame",
       "ref": "de96d4ad-7d1c-4db7-9bf3-cb9da746edb1",
       "rows": [
        [
         "0",
         "Q Learning",
         "2",
         "1",
         "2",
         "False",
         "0"
        ],
        [
         "1",
         "Q Learning",
         "4",
         "2",
         "4",
         "False",
         "0"
        ],
        [
         "2",
         "Q Learning",
         "6",
         "3",
         "4",
         "False",
         "0"
        ],
        [
         "3",
         "Q Learning",
         "8",
         "4",
         "4",
         "False",
         "0"
        ],
        [
         "4",
         "Q Learning",
         "10",
         "5",
         "4",
         "False",
         "0"
        ]
       ],
       "shape": {
        "columns": 6,
        "rows": 5
       }
      },
      "text/html": [
       "<div>\n",
       "<style scoped>\n",
       "    .dataframe tbody tr th:only-of-type {\n",
       "        vertical-align: middle;\n",
       "    }\n",
       "\n",
       "    .dataframe tbody tr th {\n",
       "        vertical-align: top;\n",
       "    }\n",
       "\n",
       "    .dataframe thead th {\n",
       "        text-align: right;\n",
       "    }\n",
       "</style>\n",
       "<table border=\"1\" class=\"dataframe\">\n",
       "  <thead>\n",
       "    <tr style=\"text-align: right;\">\n",
       "      <th></th>\n",
       "      <th>Strategy</th>\n",
       "      <th>Score</th>\n",
       "      <th>Number of moves</th>\n",
       "      <th>Highest Tile</th>\n",
       "      <th>Game over</th>\n",
       "      <th>Iteration</th>\n",
       "    </tr>\n",
       "  </thead>\n",
       "  <tbody>\n",
       "    <tr>\n",
       "      <th>0</th>\n",
       "      <td>Q Learning</td>\n",
       "      <td>2</td>\n",
       "      <td>1</td>\n",
       "      <td>2</td>\n",
       "      <td>False</td>\n",
       "      <td>0</td>\n",
       "    </tr>\n",
       "    <tr>\n",
       "      <th>1</th>\n",
       "      <td>Q Learning</td>\n",
       "      <td>4</td>\n",
       "      <td>2</td>\n",
       "      <td>4</td>\n",
       "      <td>False</td>\n",
       "      <td>0</td>\n",
       "    </tr>\n",
       "    <tr>\n",
       "      <th>2</th>\n",
       "      <td>Q Learning</td>\n",
       "      <td>6</td>\n",
       "      <td>3</td>\n",
       "      <td>4</td>\n",
       "      <td>False</td>\n",
       "      <td>0</td>\n",
       "    </tr>\n",
       "    <tr>\n",
       "      <th>3</th>\n",
       "      <td>Q Learning</td>\n",
       "      <td>8</td>\n",
       "      <td>4</td>\n",
       "      <td>4</td>\n",
       "      <td>False</td>\n",
       "      <td>0</td>\n",
       "    </tr>\n",
       "    <tr>\n",
       "      <th>4</th>\n",
       "      <td>Q Learning</td>\n",
       "      <td>10</td>\n",
       "      <td>5</td>\n",
       "      <td>4</td>\n",
       "      <td>False</td>\n",
       "      <td>0</td>\n",
       "    </tr>\n",
       "  </tbody>\n",
       "</table>\n",
       "</div>"
      ],
      "text/plain": [
       "     Strategy  Score  Number of moves  Highest Tile  Game over  Iteration\n",
       "0  Q Learning      2                1             2      False          0\n",
       "1  Q Learning      4                2             4      False          0\n",
       "2  Q Learning      6                3             4      False          0\n",
       "3  Q Learning      8                4             4      False          0\n",
       "4  Q Learning     10                5             4      False          0"
      ]
     },
     "execution_count": 392,
     "metadata": {},
     "output_type": "execute_result"
    }
   ],
   "source": [
    "df = pd.read_csv('data/statistical.csv')\n",
    "df.head()"
   ]
  },
  {
   "cell_type": "code",
   "execution_count": 393,
   "metadata": {},
   "outputs": [
    {
     "data": {
      "image/png": "[encoded data removed]",
      "text/plain": [
       "<Figure size 640x480 with 1 Axes>"
      ]
     },
     "metadata": {},
     "output_type": "display_data"
    }
   ],
   "source": [
    "sns.violinplot(x='Strategy', y='Highest Tile', data=df[df['Game over'] == True])\n",
    "plt.yticks(np.logspace(0, np.log2(df['Highest Tile'].max()), base=2, num=int(np.log2(df['Highest Tile'].max())) + 1))\n",
    "plt.savefig('img/game_strategy.png')\n",
    "plt.show()"
   ]
  },
  {
   "cell_type": "code",
   "execution_count": 394,
   "metadata": {},
   "outputs": [
    {
     "data": {
      "text/plain": [
       "20"
      ]
     },
     "execution_count": 394,
     "metadata": {},
     "output_type": "execute_result"
    }
   ],
   "source": [
    "max(df['Number of moves'])"
   ]
  },
  {
   "cell_type": "markdown",
   "metadata": {},
   "source": [
    "## QLearning"
   ]
  },
  {
   "cell_type": "code",
   "execution_count": 395,
   "metadata": {},
   "outputs": [
    {
     "data": {
      "application/vnd.microsoft.datawrangler.viewer.v0+json": {
       "columns": [
        {
         "name": "index",
         "rawType": "int64",
         "type": "integer"
        },
        {
         "name": "Strategy",
         "rawType": "object",
         "type": "string"
        },
        {
         "name": "Score",
         "rawType": "int64",
         "type": "integer"
        },
        {
         "name": "Number of moves",
         "rawType": "int64",
         "type": "integer"
        },
        {
         "name": "Highest Tile",
         "rawType": "int64",
         "type": "integer"
        },
        {
         "name": "Game over",
         "rawType": "bool",
         "type": "boolean"
        },
        {
         "name": "Iteration",
         "rawType": "int64",
         "type": "integer"
        }
       ],
       "conversionMethod": "pd.DataFrame",
       "ref": "a460813f-34db-4823-a089-8378aa6257e0",
       "rows": [
        [
         "19",
         "Q Learning",
         "42",
         "20",
         "16",
         "False",
         "0"
        ],
        [
         "39",
         "Q Learning",
         "44",
         "20",
         "16",
         "False",
         "1"
        ],
        [
         "59",
         "Q Learning",
         "44",
         "20",
         "16",
         "False",
         "2"
        ],
        [
         "79",
         "Q Learning",
         "42",
         "20",
         "16",
         "False",
         "3"
        ],
        [
         "99",
         "Q Learning",
         "44",
         "20",
         "8",
         "False",
         "4"
        ],
        [
         "119",
         "Q Learning",
         "44",
         "20",
         "16",
         "False",
         "5"
        ],
        [
         "139",
         "Q Learning",
         "46",
         "20",
         "16",
         "False",
         "6"
        ],
        [
         "159",
         "Q Learning",
         "46",
         "20",
         "16",
         "False",
         "7"
        ],
        [
         "179",
         "Q Learning",
         "42",
         "20",
         "16",
         "False",
         "8"
        ],
        [
         "199",
         "Q Learning",
         "42",
         "20",
         "16",
         "False",
         "9"
        ],
        [
         "219",
         "Q Learning",
         "48",
         "20",
         "16",
         "False",
         "10"
        ],
        [
         "239",
         "Q Learning",
         "46",
         "20",
         "16",
         "False",
         "11"
        ],
        [
         "259",
         "Q Learning",
         "44",
         "20",
         "16",
         "False",
         "12"
        ],
        [
         "279",
         "Q Learning",
         "42",
         "20",
         "16",
         "False",
         "13"
        ],
        [
         "299",
         "Q Learning",
         "42",
         "20",
         "16",
         "False",
         "14"
        ],
        [
         "319",
         "Q Learning",
         "44",
         "20",
         "16",
         "False",
         "15"
        ],
        [
         "339",
         "Q Learning",
         "46",
         "20",
         "16",
         "False",
         "16"
        ],
        [
         "359",
         "Q Learning",
         "48",
         "20",
         "16",
         "False",
         "17"
        ],
        [
         "379",
         "Q Learning",
         "44",
         "20",
         "16",
         "False",
         "18"
        ],
        [
         "399",
         "Q Learning",
         "46",
         "20",
         "16",
         "False",
         "19"
        ],
        [
         "419",
         "Q Learning",
         "48",
         "20",
         "16",
         "False",
         "20"
        ],
        [
         "439",
         "Q Learning",
         "42",
         "20",
         "16",
         "False",
         "21"
        ],
        [
         "459",
         "Q Learning",
         "46",
         "20",
         "16",
         "False",
         "22"
        ],
        [
         "479",
         "Q Learning",
         "42",
         "20",
         "16",
         "False",
         "23"
        ],
        [
         "499",
         "Q Learning",
         "40",
         "20",
         "8",
         "False",
         "24"
        ],
        [
         "519",
         "Q Learning",
         "44",
         "20",
         "16",
         "False",
         "25"
        ],
        [
         "539",
         "Q Learning",
         "44",
         "20",
         "16",
         "False",
         "26"
        ],
        [
         "559",
         "Q Learning",
         "42",
         "20",
         "16",
         "False",
         "27"
        ],
        [
         "579",
         "Q Learning",
         "42",
         "20",
         "16",
         "False",
         "28"
        ],
        [
         "599",
         "Q Learning",
         "40",
         "20",
         "16",
         "False",
         "29"
        ],
        [
         "619",
         "Q Learning",
         "42",
         "20",
         "16",
         "False",
         "30"
        ],
        [
         "639",
         "Q Learning",
         "46",
         "20",
         "16",
         "False",
         "31"
        ],
        [
         "659",
         "Q Learning",
         "40",
         "20",
         "16",
         "False",
         "32"
        ],
        [
         "679",
         "Q Learning",
         "44",
         "20",
         "8",
         "False",
         "33"
        ],
        [
         "699",
         "Q Learning",
         "44",
         "20",
         "32",
         "False",
         "34"
        ],
        [
         "719",
         "Q Learning",
         "42",
         "20",
         "8",
         "False",
         "35"
        ],
        [
         "739",
         "Q Learning",
         "44",
         "20",
         "16",
         "False",
         "36"
        ],
        [
         "759",
         "Q Learning",
         "46",
         "20",
         "16",
         "False",
         "37"
        ],
        [
         "779",
         "Q Learning",
         "42",
         "20",
         "16",
         "False",
         "38"
        ],
        [
         "799",
         "Q Learning",
         "44",
         "20",
         "8",
         "False",
         "39"
        ],
        [
         "819",
         "Q Learning",
         "42",
         "20",
         "16",
         "False",
         "40"
        ],
        [
         "839",
         "Q Learning",
         "42",
         "20",
         "16",
         "False",
         "41"
        ],
        [
         "859",
         "Q Learning",
         "42",
         "20",
         "16",
         "False",
         "42"
        ],
        [
         "879",
         "Q Learning",
         "42",
         "20",
         "16",
         "False",
         "43"
        ],
        [
         "899",
         "Q Learning",
         "44",
         "20",
         "8",
         "False",
         "44"
        ],
        [
         "919",
         "Q Learning",
         "42",
         "20",
         "16",
         "False",
         "45"
        ],
        [
         "939",
         "Q Learning",
         "42",
         "20",
         "16",
         "False",
         "46"
        ],
        [
         "959",
         "Q Learning",
         "40",
         "20",
         "16",
         "False",
         "47"
        ],
        [
         "979",
         "Q Learning",
         "46",
         "20",
         "16",
         "False",
         "48"
        ],
        [
         "999",
         "Q Learning",
         "40",
         "20",
         "16",
         "False",
         "49"
        ]
       ],
       "shape": {
        "columns": 6,
        "rows": 128213
       }
      },
      "text/html": [
       "<div>\n",
       "<style scoped>\n",
       "    .dataframe tbody tr th:only-of-type {\n",
       "        vertical-align: middle;\n",
       "    }\n",
       "\n",
       "    .dataframe tbody tr th {\n",
       "        vertical-align: top;\n",
       "    }\n",
       "\n",
       "    .dataframe thead th {\n",
       "        text-align: right;\n",
       "    }\n",
       "</style>\n",
       "<table border=\"1\" class=\"dataframe\">\n",
       "  <thead>\n",
       "    <tr style=\"text-align: right;\">\n",
       "      <th></th>\n",
       "      <th>Strategy</th>\n",
       "      <th>Score</th>\n",
       "      <th>Number of moves</th>\n",
       "      <th>Highest Tile</th>\n",
       "      <th>Game over</th>\n",
       "      <th>Iteration</th>\n",
       "    </tr>\n",
       "  </thead>\n",
       "  <tbody>\n",
       "    <tr>\n",
       "      <th>19</th>\n",
       "      <td>Q Learning</td>\n",
       "      <td>42</td>\n",
       "      <td>20</td>\n",
       "      <td>16</td>\n",
       "      <td>False</td>\n",
       "      <td>0</td>\n",
       "    </tr>\n",
       "    <tr>\n",
       "      <th>39</th>\n",
       "      <td>Q Learning</td>\n",
       "      <td>44</td>\n",
       "      <td>20</td>\n",
       "      <td>16</td>\n",
       "      <td>False</td>\n",
       "      <td>1</td>\n",
       "    </tr>\n",
       "    <tr>\n",
       "      <th>59</th>\n",
       "      <td>Q Learning</td>\n",
       "      <td>44</td>\n",
       "      <td>20</td>\n",
       "      <td>16</td>\n",
       "      <td>False</td>\n",
       "      <td>2</td>\n",
       "    </tr>\n",
       "    <tr>\n",
       "      <th>79</th>\n",
       "      <td>Q Learning</td>\n",
       "      <td>42</td>\n",
       "      <td>20</td>\n",
       "      <td>16</td>\n",
       "      <td>False</td>\n",
       "      <td>3</td>\n",
       "    </tr>\n",
       "    <tr>\n",
       "      <th>99</th>\n",
       "      <td>Q Learning</td>\n",
       "      <td>44</td>\n",
       "      <td>20</td>\n",
       "      <td>8</td>\n",
       "      <td>False</td>\n",
       "      <td>4</td>\n",
       "    </tr>\n",
       "    <tr>\n",
       "      <th>...</th>\n",
       "      <td>...</td>\n",
       "      <td>...</td>\n",
       "      <td>...</td>\n",
       "      <td>...</td>\n",
       "      <td>...</td>\n",
       "      <td>...</td>\n",
       "    </tr>\n",
       "    <tr>\n",
       "      <th>2564179</th>\n",
       "      <td>Q Learning</td>\n",
       "      <td>40</td>\n",
       "      <td>20</td>\n",
       "      <td>16</td>\n",
       "      <td>False</td>\n",
       "      <td>128208</td>\n",
       "    </tr>\n",
       "    <tr>\n",
       "      <th>2564199</th>\n",
       "      <td>Q Learning</td>\n",
       "      <td>46</td>\n",
       "      <td>20</td>\n",
       "      <td>16</td>\n",
       "      <td>False</td>\n",
       "      <td>128209</td>\n",
       "    </tr>\n",
       "    <tr>\n",
       "      <th>2564219</th>\n",
       "      <td>Q Learning</td>\n",
       "      <td>44</td>\n",
       "      <td>20</td>\n",
       "      <td>16</td>\n",
       "      <td>False</td>\n",
       "      <td>128210</td>\n",
       "    </tr>\n",
       "    <tr>\n",
       "      <th>2564239</th>\n",
       "      <td>Q Learning</td>\n",
       "      <td>50</td>\n",
       "      <td>20</td>\n",
       "      <td>16</td>\n",
       "      <td>False</td>\n",
       "      <td>128211</td>\n",
       "    </tr>\n",
       "    <tr>\n",
       "      <th>2564259</th>\n",
       "      <td>Q Learning</td>\n",
       "      <td>46</td>\n",
       "      <td>20</td>\n",
       "      <td>16</td>\n",
       "      <td>False</td>\n",
       "      <td>128212</td>\n",
       "    </tr>\n",
       "  </tbody>\n",
       "</table>\n",
       "<p>128213 rows × 6 columns</p>\n",
       "</div>"
      ],
      "text/plain": [
       "           Strategy  Score  Number of moves  Highest Tile  Game over  \\\n",
       "19       Q Learning     42               20            16      False   \n",
       "39       Q Learning     44               20            16      False   \n",
       "59       Q Learning     44               20            16      False   \n",
       "79       Q Learning     42               20            16      False   \n",
       "99       Q Learning     44               20             8      False   \n",
       "...             ...    ...              ...           ...        ...   \n",
       "2564179  Q Learning     40               20            16      False   \n",
       "2564199  Q Learning     46               20            16      False   \n",
       "2564219  Q Learning     44               20            16      False   \n",
       "2564239  Q Learning     50               20            16      False   \n",
       "2564259  Q Learning     46               20            16      False   \n",
       "\n",
       "         Iteration  \n",
       "19               0  \n",
       "39               1  \n",
       "59               2  \n",
       "79               3  \n",
       "99               4  \n",
       "...            ...  \n",
       "2564179     128208  \n",
       "2564199     128209  \n",
       "2564219     128210  \n",
       "2564239     128211  \n",
       "2564259     128212  \n",
       "\n",
       "[128213 rows x 6 columns]"
      ]
     },
     "execution_count": 395,
     "metadata": {},
     "output_type": "execute_result"
    }
   ],
   "source": [
    "df_q = df[df['Strategy']=='Q Learning']\n",
    "df_q = df_q[df_q['Number of moves'] == 20]\n",
    "df_q"
   ]
  },
  {
   "cell_type": "code",
   "execution_count": 396,
   "metadata": {},
   "outputs": [
    {
     "data": {
      "image/png": "[encoded data removed]",
      "text/plain": [
       "<Figure size 1000x600 with 1 Axes>"
      ]
     },
     "metadata": {},
     "output_type": "display_data"
    }
   ],
   "source": [
    "plt.figure(figsize=(10, 6))\n",
    "sns.lineplot(x='Iteration', y='Score', data=df_q)\n",
    "plt.xlabel('Iterations')\n",
    "plt.ylabel('Score')\n",
    "sns.regplot(x='Iteration', y='Score', data=df_q, scatter=False, color='red')\n",
    "plt.show()"
   ]
  },
  {
   "cell_type": "code",
   "execution_count": 397,
   "metadata": {},
   "outputs": [
    {
     "data": {
      "image/png": "[encoded data removed]",
      "text/plain": [
       "<Figure size 1000x600 with 1 Axes>"
      ]
     },
     "metadata": {},
     "output_type": "display_data"
    }
   ],
   "source": [
    "plt.figure(figsize=(10, 6))\n",
    "sns.lineplot(x='Iteration', y='Highest Tile', data=df_q)\n",
    "plt.xlabel('Iterations')\n",
    "plt.ylabel('Highest Tile')\n",
    "sns.regplot(x='Iteration', y='Highest Tile', data=df_q, scatter=False, color='red')\n",
    "plt.show()"
   ]
  }
 ],
 "metadata": {
  "kernelspec": {
   "display_name": "waldlabor",
   "language": "python",
   "name": "python3"
  },
  "language_info": {
   "codemirror_mode": {
    "name": "ipython",
    "version": 3
   },
   "file_extension": ".py",
   "mimetype": "text/x-python",
   "name": "python",
   "nbconvert_exporter": "python",
   "pygments_lexer": "ipython3",
   "version": "3.12.4"
  }
 },
 "nbformat": 4,
 "nbformat_minor": 2
}
