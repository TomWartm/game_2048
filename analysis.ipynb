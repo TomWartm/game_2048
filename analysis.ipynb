{
 "cells": [
  {
   "cell_type": "markdown",
   "metadata": {},
   "source": [
    "# Data Analysis Game Strategy"
   ]
  },
  {
   "cell_type": "code",
   "execution_count": 164,
   "metadata": {},
   "outputs": [],
   "source": [
    "import numpy as np\n",
    "import pandas as pd\n",
    "import seaborn as sns\n",
    "import matplotlib.pyplot as plt"
   ]
  },
  {
   "cell_type": "code",
   "execution_count": 165,
   "metadata": {},
   "outputs": [
    {
     "data": {
      "application/vnd.microsoft.datawrangler.viewer.v0+json": {
       "columns": [
        {
         "name": "index",
         "rawType": "int64",
         "type": "integer"
        },
        {
         "name": "Strategy",
         "rawType": "object",
         "type": "string"
        },
        {
         "name": "Score",
         "rawType": "int64",
         "type": "integer"
        },
        {
         "name": "Number of moves",
         "rawType": "int64",
         "type": "integer"
        },
        {
         "name": "Highest Tile",
         "rawType": "int64",
         "type": "integer"
        },
        {
         "name": "Game over",
         "rawType": "bool",
         "type": "boolean"
        },
        {
         "name": "Iteration",
         "rawType": "int64",
         "type": "integer"
        }
       ],
       "conversionMethod": "pd.DataFrame",
       "ref": "5583bb87-dd30-4a64-bc6b-f83ba14cc389",
       "rows": [
        [
         "0",
         "Deep Q-Learning",
         "2",
         "1",
         "2",
         "False",
         "0"
        ],
        [
         "1",
         "Deep Q-Learning",
         "4",
         "2",
         "2",
         "False",
         "0"
        ],
        [
         "2",
         "Deep Q-Learning",
         "6",
         "3",
         "4",
         "False",
         "0"
        ],
        [
         "3",
         "Deep Q-Learning",
         "8",
         "4",
         "4",
         "False",
         "0"
        ],
        [
         "4",
         "Deep Q-Learning",
         "10",
         "5",
         "4",
         "False",
         "0"
        ]
       ],
       "shape": {
        "columns": 6,
        "rows": 5
       }
      },
      "text/html": [
       "<div>\n",
       "<style scoped>\n",
       "    .dataframe tbody tr th:only-of-type {\n",
       "        vertical-align: middle;\n",
       "    }\n",
       "\n",
       "    .dataframe tbody tr th {\n",
       "        vertical-align: top;\n",
       "    }\n",
       "\n",
       "    .dataframe thead th {\n",
       "        text-align: right;\n",
       "    }\n",
       "</style>\n",
       "<table border=\"1\" class=\"dataframe\">\n",
       "  <thead>\n",
       "    <tr style=\"text-align: right;\">\n",
       "      <th></th>\n",
       "      <th>Strategy</th>\n",
       "      <th>Score</th>\n",
       "      <th>Number of moves</th>\n",
       "      <th>Highest Tile</th>\n",
       "      <th>Game over</th>\n",
       "      <th>Iteration</th>\n",
       "    </tr>\n",
       "  </thead>\n",
       "  <tbody>\n",
       "    <tr>\n",
       "      <th>0</th>\n",
       "      <td>Deep Q-Learning</td>\n",
       "      <td>2</td>\n",
       "      <td>1</td>\n",
       "      <td>2</td>\n",
       "      <td>False</td>\n",
       "      <td>0</td>\n",
       "    </tr>\n",
       "    <tr>\n",
       "      <th>1</th>\n",
       "      <td>Deep Q-Learning</td>\n",
       "      <td>4</td>\n",
       "      <td>2</td>\n",
       "      <td>2</td>\n",
       "      <td>False</td>\n",
       "      <td>0</td>\n",
       "    </tr>\n",
       "    <tr>\n",
       "      <th>2</th>\n",
       "      <td>Deep Q-Learning</td>\n",
       "      <td>6</td>\n",
       "      <td>3</td>\n",
       "      <td>4</td>\n",
       "      <td>False</td>\n",
       "      <td>0</td>\n",
       "    </tr>\n",
       "    <tr>\n",
       "      <th>3</th>\n",
       "      <td>Deep Q-Learning</td>\n",
       "      <td>8</td>\n",
       "      <td>4</td>\n",
       "      <td>4</td>\n",
       "      <td>False</td>\n",
       "      <td>0</td>\n",
       "    </tr>\n",
       "    <tr>\n",
       "      <th>4</th>\n",
       "      <td>Deep Q-Learning</td>\n",
       "      <td>10</td>\n",
       "      <td>5</td>\n",
       "      <td>4</td>\n",
       "      <td>False</td>\n",
       "      <td>0</td>\n",
       "    </tr>\n",
       "  </tbody>\n",
       "</table>\n",
       "</div>"
      ],
      "text/plain": [
       "          Strategy  Score  Number of moves  Highest Tile  Game over  Iteration\n",
       "0  Deep Q-Learning      2                1             2      False          0\n",
       "1  Deep Q-Learning      4                2             2      False          0\n",
       "2  Deep Q-Learning      6                3             4      False          0\n",
       "3  Deep Q-Learning      8                4             4      False          0\n",
       "4  Deep Q-Learning     10                5             4      False          0"
      ]
     },
     "execution_count": 165,
     "metadata": {},
     "output_type": "execute_result"
    }
   ],
   "source": [
    "df = pd.read_csv('C:/Users/mot99/Dokumente/GitHub/game_2048/data/statistical.csv')\n",
    "df.head()"
   ]
  },
  {
   "cell_type": "code",
   "execution_count": 166,
   "metadata": {},
   "outputs": [
    {
     "data": {
      "image/png": "[encoded data removed]",
      "text/plain": [
       "<Figure size 640x480 with 1 Axes>"
      ]
     },
     "metadata": {},
     "output_type": "display_data"
    }
   ],
   "source": [
    "sns.violinplot(x='Strategy', y='Highest Tile', data=df[df['Game over'] == True])\n",
    "plt.yticks(np.logspace(0, np.log2(df['Highest Tile'].max()), base=2, num=int(np.log2(df['Highest Tile'].max())) + 1))\n",
    "plt.savefig('img/game_strategy.png')\n",
    "plt.show()"
   ]
  },
  {
   "cell_type": "code",
   "execution_count": 167,
   "metadata": {},
   "outputs": [
    {
     "data": {
      "text/plain": [
       "305"
      ]
     },
     "execution_count": 167,
     "metadata": {},
     "output_type": "execute_result"
    }
   ],
   "source": [
    "max(df['Number of moves'])"
   ]
  },
  {
   "cell_type": "markdown",
   "metadata": {},
   "source": [
    "## QLearning"
   ]
  },
  {
   "cell_type": "code",
   "execution_count": 168,
   "metadata": {},
   "outputs": [
    {
     "data": {
      "application/vnd.microsoft.datawrangler.viewer.v0+json": {
       "columns": [
        {
         "name": "index",
         "rawType": "int64",
         "type": "integer"
        },
        {
         "name": "Strategy",
         "rawType": "object",
         "type": "string"
        },
        {
         "name": "Score",
         "rawType": "int64",
         "type": "integer"
        },
        {
         "name": "Number of moves",
         "rawType": "int64",
         "type": "integer"
        },
        {
         "name": "Highest Tile",
         "rawType": "int64",
         "type": "integer"
        },
        {
         "name": "Game over",
         "rawType": "bool",
         "type": "boolean"
        },
        {
         "name": "Iteration",
         "rawType": "int64",
         "type": "integer"
        }
       ],
       "conversionMethod": "pd.DataFrame",
       "ref": "768ec0e5-933e-4d9b-a447-3af033e9750b",
       "rows": [
        [
         "180",
         "Deep Q-Learning",
         "392",
         "180",
         "128",
         "True",
         "0"
        ],
        [
         "181",
         "Deep Q-Learning",
         "238",
         "106",
         "128",
         "True",
         "1"
        ],
        [
         "182",
         "Deep Q-Learning",
         "274",
         "122",
         "128",
         "True",
         "2"
        ],
        [
         "183",
         "Deep Q-Learning",
         "332",
         "152",
         "128",
         "True",
         "3"
        ],
        [
         "184",
         "Deep Q-Learning",
         "326",
         "146",
         "128",
         "True",
         "4"
        ],
        [
         "185",
         "Deep Q-Learning",
         "220",
         "100",
         "64",
         "True",
         "5"
        ],
        [
         "186",
         "Deep Q-Learning",
         "284",
         "132",
         "128",
         "True",
         "6"
        ],
        [
         "187",
         "Deep Q-Learning",
         "356",
         "167",
         "128",
         "True",
         "7"
        ],
        [
         "188",
         "Deep Q-Learning",
         "178",
         "76",
         "32",
         "True",
         "8"
        ],
        [
         "189",
         "Deep Q-Learning",
         "206",
         "87",
         "64",
         "True",
         "9"
        ],
        [
         "190",
         "Deep Q-Learning",
         "308",
         "141",
         "128",
         "True",
         "10"
        ],
        [
         "191",
         "Deep Q-Learning",
         "278",
         "126",
         "128",
         "True",
         "11"
        ],
        [
         "192",
         "Deep Q-Learning",
         "306",
         "139",
         "128",
         "True",
         "12"
        ],
        [
         "193",
         "Deep Q-Learning",
         "178",
         "83",
         "64",
         "True",
         "13"
        ],
        [
         "194",
         "Deep Q-Learning",
         "294",
         "134",
         "128",
         "True",
         "14"
        ],
        [
         "195",
         "Deep Q-Learning",
         "260",
         "116",
         "64",
         "True",
         "15"
        ],
        [
         "196",
         "Deep Q-Learning",
         "278",
         "127",
         "128",
         "True",
         "16"
        ],
        [
         "197",
         "Deep Q-Learning",
         "290",
         "130",
         "128",
         "True",
         "17"
        ],
        [
         "198",
         "Deep Q-Learning",
         "228",
         "105",
         "64",
         "True",
         "18"
        ],
        [
         "199",
         "Deep Q-Learning",
         "330",
         "153",
         "128",
         "True",
         "19"
        ],
        [
         "200",
         "Deep Q-Learning",
         "178",
         "81",
         "64",
         "True",
         "20"
        ],
        [
         "201",
         "Deep Q-Learning",
         "180",
         "80",
         "32",
         "True",
         "21"
        ],
        [
         "202",
         "Deep Q-Learning",
         "208",
         "95",
         "64",
         "True",
         "22"
        ],
        [
         "203",
         "Deep Q-Learning",
         "270",
         "121",
         "128",
         "True",
         "23"
        ],
        [
         "204",
         "Deep Q-Learning",
         "336",
         "151",
         "128",
         "True",
         "24"
        ],
        [
         "205",
         "Deep Q-Learning",
         "196",
         "87",
         "64",
         "True",
         "25"
        ],
        [
         "206",
         "Deep Q-Learning",
         "314",
         "144",
         "128",
         "True",
         "26"
        ],
        [
         "207",
         "Deep Q-Learning",
         "174",
         "77",
         "64",
         "True",
         "27"
        ],
        [
         "208",
         "Deep Q-Learning",
         "312",
         "143",
         "128",
         "True",
         "28"
        ],
        [
         "209",
         "Deep Q-Learning",
         "210",
         "96",
         "64",
         "True",
         "29"
        ],
        [
         "210",
         "Deep Q-Learning",
         "272",
         "126",
         "128",
         "True",
         "30"
        ],
        [
         "211",
         "Deep Q-Learning",
         "352",
         "164",
         "128",
         "True",
         "31"
        ],
        [
         "212",
         "Deep Q-Learning",
         "186",
         "84",
         "64",
         "True",
         "32"
        ],
        [
         "213",
         "Deep Q-Learning",
         "308",
         "145",
         "128",
         "True",
         "33"
        ],
        [
         "214",
         "Deep Q-Learning",
         "312",
         "141",
         "128",
         "True",
         "34"
        ],
        [
         "215",
         "Deep Q-Learning",
         "198",
         "89",
         "64",
         "True",
         "35"
        ],
        [
         "216",
         "Deep Q-Learning",
         "140",
         "56",
         "32",
         "True",
         "36"
        ],
        [
         "217",
         "Deep Q-Learning",
         "204",
         "95",
         "64",
         "True",
         "37"
        ],
        [
         "218",
         "Deep Q-Learning",
         "194",
         "88",
         "64",
         "True",
         "38"
        ],
        [
         "219",
         "Deep Q-Learning",
         "330",
         "152",
         "128",
         "True",
         "39"
        ],
        [
         "220",
         "Deep Q-Learning",
         "330",
         "160",
         "128",
         "True",
         "40"
        ],
        [
         "221",
         "Deep Q-Learning",
         "278",
         "122",
         "128",
         "True",
         "41"
        ],
        [
         "222",
         "Deep Q-Learning",
         "176",
         "79",
         "64",
         "True",
         "42"
        ],
        [
         "223",
         "Deep Q-Learning",
         "266",
         "123",
         "128",
         "True",
         "43"
        ],
        [
         "224",
         "Deep Q-Learning",
         "234",
         "107",
         "64",
         "True",
         "44"
        ],
        [
         "225",
         "Deep Q-Learning",
         "448",
         "202",
         "256",
         "True",
         "45"
        ],
        [
         "226",
         "Deep Q-Learning",
         "288",
         "131",
         "128",
         "True",
         "46"
        ],
        [
         "227",
         "Deep Q-Learning",
         "278",
         "129",
         "128",
         "True",
         "47"
        ],
        [
         "228",
         "Deep Q-Learning",
         "192",
         "82",
         "64",
         "True",
         "48"
        ],
        [
         "229",
         "Deep Q-Learning",
         "352",
         "159",
         "128",
         "True",
         "49"
        ]
       ],
       "shape": {
        "columns": 6,
        "rows": 10220
       }
      },
      "text/html": [
       "<div>\n",
       "<style scoped>\n",
       "    .dataframe tbody tr th:only-of-type {\n",
       "        vertical-align: middle;\n",
       "    }\n",
       "\n",
       "    .dataframe tbody tr th {\n",
       "        vertical-align: top;\n",
       "    }\n",
       "\n",
       "    .dataframe thead th {\n",
       "        text-align: right;\n",
       "    }\n",
       "</style>\n",
       "<table border=\"1\" class=\"dataframe\">\n",
       "  <thead>\n",
       "    <tr style=\"text-align: right;\">\n",
       "      <th></th>\n",
       "      <th>Strategy</th>\n",
       "      <th>Score</th>\n",
       "      <th>Number of moves</th>\n",
       "      <th>Highest Tile</th>\n",
       "      <th>Game over</th>\n",
       "      <th>Iteration</th>\n",
       "    </tr>\n",
       "  </thead>\n",
       "  <tbody>\n",
       "    <tr>\n",
       "      <th>180</th>\n",
       "      <td>Deep Q-Learning</td>\n",
       "      <td>392</td>\n",
       "      <td>180</td>\n",
       "      <td>128</td>\n",
       "      <td>True</td>\n",
       "      <td>0</td>\n",
       "    </tr>\n",
       "    <tr>\n",
       "      <th>181</th>\n",
       "      <td>Deep Q-Learning</td>\n",
       "      <td>238</td>\n",
       "      <td>106</td>\n",
       "      <td>128</td>\n",
       "      <td>True</td>\n",
       "      <td>1</td>\n",
       "    </tr>\n",
       "    <tr>\n",
       "      <th>182</th>\n",
       "      <td>Deep Q-Learning</td>\n",
       "      <td>274</td>\n",
       "      <td>122</td>\n",
       "      <td>128</td>\n",
       "      <td>True</td>\n",
       "      <td>2</td>\n",
       "    </tr>\n",
       "    <tr>\n",
       "      <th>183</th>\n",
       "      <td>Deep Q-Learning</td>\n",
       "      <td>332</td>\n",
       "      <td>152</td>\n",
       "      <td>128</td>\n",
       "      <td>True</td>\n",
       "      <td>3</td>\n",
       "    </tr>\n",
       "    <tr>\n",
       "      <th>184</th>\n",
       "      <td>Deep Q-Learning</td>\n",
       "      <td>326</td>\n",
       "      <td>146</td>\n",
       "      <td>128</td>\n",
       "      <td>True</td>\n",
       "      <td>4</td>\n",
       "    </tr>\n",
       "    <tr>\n",
       "      <th>...</th>\n",
       "      <td>...</td>\n",
       "      <td>...</td>\n",
       "      <td>...</td>\n",
       "      <td>...</td>\n",
       "      <td>...</td>\n",
       "      <td>...</td>\n",
       "    </tr>\n",
       "    <tr>\n",
       "      <th>11594</th>\n",
       "      <td>Deep Q-Learning</td>\n",
       "      <td>278</td>\n",
       "      <td>123</td>\n",
       "      <td>128</td>\n",
       "      <td>True</td>\n",
       "      <td>10215</td>\n",
       "    </tr>\n",
       "    <tr>\n",
       "      <th>11595</th>\n",
       "      <td>Deep Q-Learning</td>\n",
       "      <td>292</td>\n",
       "      <td>126</td>\n",
       "      <td>64</td>\n",
       "      <td>True</td>\n",
       "      <td>10216</td>\n",
       "    </tr>\n",
       "    <tr>\n",
       "      <th>11596</th>\n",
       "      <td>Deep Q-Learning</td>\n",
       "      <td>360</td>\n",
       "      <td>167</td>\n",
       "      <td>128</td>\n",
       "      <td>True</td>\n",
       "      <td>10217</td>\n",
       "    </tr>\n",
       "    <tr>\n",
       "      <th>11597</th>\n",
       "      <td>Deep Q-Learning</td>\n",
       "      <td>222</td>\n",
       "      <td>102</td>\n",
       "      <td>64</td>\n",
       "      <td>True</td>\n",
       "      <td>10218</td>\n",
       "    </tr>\n",
       "    <tr>\n",
       "      <th>11598</th>\n",
       "      <td>Deep Q-Learning</td>\n",
       "      <td>280</td>\n",
       "      <td>127</td>\n",
       "      <td>128</td>\n",
       "      <td>True</td>\n",
       "      <td>10219</td>\n",
       "    </tr>\n",
       "  </tbody>\n",
       "</table>\n",
       "<p>10220 rows × 6 columns</p>\n",
       "</div>"
      ],
      "text/plain": [
       "              Strategy  Score  Number of moves  Highest Tile  Game over  \\\n",
       "180    Deep Q-Learning    392              180           128       True   \n",
       "181    Deep Q-Learning    238              106           128       True   \n",
       "182    Deep Q-Learning    274              122           128       True   \n",
       "183    Deep Q-Learning    332              152           128       True   \n",
       "184    Deep Q-Learning    326              146           128       True   \n",
       "...                ...    ...              ...           ...        ...   \n",
       "11594  Deep Q-Learning    278              123           128       True   \n",
       "11595  Deep Q-Learning    292              126            64       True   \n",
       "11596  Deep Q-Learning    360              167           128       True   \n",
       "11597  Deep Q-Learning    222              102            64       True   \n",
       "11598  Deep Q-Learning    280              127           128       True   \n",
       "\n",
       "       Iteration  \n",
       "180            0  \n",
       "181            1  \n",
       "182            2  \n",
       "183            3  \n",
       "184            4  \n",
       "...          ...  \n",
       "11594      10215  \n",
       "11595      10216  \n",
       "11596      10217  \n",
       "11597      10218  \n",
       "11598      10219  \n",
       "\n",
       "[10220 rows x 6 columns]"
      ]
     },
     "execution_count": 168,
     "metadata": {},
     "output_type": "execute_result"
    }
   ],
   "source": [
    "df_q = df[df['Strategy']=='Deep Q-Learning']\n",
    "df_q = df_q[df_q['Game over']]\n",
    "df_q"
   ]
  },
  {
   "cell_type": "code",
   "execution_count": 169,
   "metadata": {},
   "outputs": [
    {
     "data": {
      "image/png": "[encoded data removed]",
      "text/plain": [
       "<Figure size 1000x600 with 1 Axes>"
      ]
     },
     "metadata": {},
     "output_type": "display_data"
    }
   ],
   "source": [
    "plt.figure(figsize=(10, 6))\n",
    "sns.lineplot(x='Iteration', y='Score', data=df_q)\n",
    "plt.xlabel('Iterations')\n",
    "plt.ylabel('Score')\n",
    "sns.regplot(x='Iteration', y='Score', data=df_q, scatter=False, color='red')\n",
    "plt.show()"
   ]
  },
  {
   "cell_type": "code",
   "execution_count": 170,
   "metadata": {},
   "outputs": [
    {
     "data": {
      "image/png": "[encoded data removed]",
      "text/plain": [
       "<Figure size 1000x600 with 1 Axes>"
      ]
     },
     "metadata": {},
     "output_type": "display_data"
    }
   ],
   "source": [
    "plt.figure(figsize=(10, 6))\n",
    "sns.lineplot(x='Iteration', y='Highest Tile', data=df_q)\n",
    "plt.xlabel('Iterations')\n",
    "plt.ylabel('Highest Tile')\n",
    "sns.regplot(x='Iteration', y='Highest Tile', data=df_q, scatter=False, color='red')\n",
    "plt.show()"
   ]
  }
 ],
 "metadata": {
  "kernelspec": {
   "display_name": "waldlabor",
   "language": "python",
   "name": "python3"
  },
  "language_info": {
   "codemirror_mode": {
    "name": "ipython",
    "version": 3
   },
   "file_extension": ".py",
   "mimetype": "text/x-python",
   "name": "python",
   "nbconvert_exporter": "python",
   "pygments_lexer": "ipython3",
   "version": "3.12.4"
  }
 },
 "nbformat": 4,
 "nbformat_minor": 2
}
